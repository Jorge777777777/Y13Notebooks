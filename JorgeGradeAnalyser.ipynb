{
  "nbformat": 4,
  "nbformat_minor": 0,
  "metadata": {
    "colab": {
      "provenance": [],
      "authorship_tag": "ABX9TyPurt6FGe9vCKyKwzp5Fjs2",
      "include_colab_link": true
    },
    "kernelspec": {
      "name": "python3",
      "display_name": "Python 3"
    },
    "language_info": {
      "name": "python"
    }
  },
  "cells": [
    {
      "cell_type": "markdown",
      "metadata": {
        "id": "view-in-github",
        "colab_type": "text"
      },
      "source": [
        "<a href=\"https://colab.research.google.com/github/Jorge777777777/Y13Notebooks/blob/main/JorgeGradeAnalyser.ipynb\" target=\"_parent\"><img src=\"https://colab.research.google.com/assets/colab-badge.svg\" alt=\"Open In Colab\"/></a>"
      ]
    },
    {
      "cell_type": "code",
      "execution_count": 9,
      "metadata": {
        "id": "DYrS2wjGyiRL"
      },
      "outputs": [],
      "source": []
    },
    {
      "cell_type": "markdown",
      "source": [
        "# AS Level Grade Analysis\n",
        "\n",
        "The following code will...\n",
        "\n",
        "1.   extract data from our text file \n",
        "\n",
        "2.   Populate an array of objects with the data from the text file\n",
        "\n",
        "3.   Calculate the letter grades for each subject\n",
        "\n",
        "4.   Output the data\n",
        "\n"
      ],
      "metadata": {
        "id": "esyGyOiNzRes"
      }
    },
    {
      "cell_type": "markdown",
      "source": [
        "## Extract the data file from the text file"
      ],
      "metadata": {
        "id": "18HvRC1E0Vie"
      }
    },
    {
      "cell_type": "code",
      "source": [
        "from re import S\n",
        "SubjectMarks = open(\"/content/sample_data/ASSubjectgrades.txt\", \"r\")\n",
        "Subject = SubjectMarks.readline()\n",
        "while Subject !=\"\":\n",
        "  Mark = SubjectMarks.readline()\n",
        "  print(\"Subject:\", Subject)\n",
        "  print(\"Mark:\", Mark)\n",
        "  Subject = SubjectMarks.readline()\n",
        "\n",
        "SubjectMarks.close()\n",
        "\n"
      ],
      "metadata": {
        "colab": {
          "base_uri": "https://localhost:8080/"
        },
        "id": "PhVbbFXG0rKp",
        "outputId": "475754ba-6fa0-4952-ee94-ccb2cab0fa56"
      },
      "execution_count": 10,
      "outputs": [
        {
          "output_type": "stream",
          "name": "stdout",
          "text": [
            "Subject: Computer Science\n",
            "\n",
            "Mark: 100\n",
            "\n",
            "Subject: Further Maths\n",
            "\n",
            "Mark: 45\n",
            "\n",
            "Subject: French\n",
            "\n",
            "Mark: 2\n"
          ]
        }
      ]
    }
  ]
}